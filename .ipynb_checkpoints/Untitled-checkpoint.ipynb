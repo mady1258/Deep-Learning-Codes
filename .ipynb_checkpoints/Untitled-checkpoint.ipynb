{
 "cells": [
  {
   "cell_type": "code",
   "execution_count": 5,
   "metadata": {},
   "outputs": [],
   "source": [
    "url=\"https://jenner.com/people\"\n",
    "class Coronavirus():\n",
    "    def __init__(self):\n",
    "        self.driver = webdriver.Chrome()\n",
    "\n",
    "    def get_data(self):\n",
    "        #try:\n",
    "        self.driver.get(url)\n",
    "        element = self.driver.find_element_by_xpath(\"//div[@class='filter offices']\")\n",
    "        element.click()\n",
    "\n",
    "        self.driver.close()\n",
    "        self.driver.quit()\n",
    "        return \"hello\"\n",
    "bot = Coronavirus()\n",
    "bot.get_data()"
   ]
  }
 ],
 "metadata": {
  "kernelspec": {
   "display_name": "Python 3",
   "language": "python",
   "name": "python3"
  },
  "language_info": {
   "codemirror_mode": {
    "name": "ipython",
    "version": 3
   },
   "file_extension": ".py",
   "mimetype": "text/x-python",
   "name": "python",
   "nbconvert_exporter": "python",
   "pygments_lexer": "ipython3",
   "version": "3.7.3"
  }
 },
 "nbformat": 4,
 "nbformat_minor": 2
}
